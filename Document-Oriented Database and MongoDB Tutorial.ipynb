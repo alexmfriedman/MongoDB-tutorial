{
 "cells": [
  {
   "cell_type": "markdown",
   "metadata": {},
   "source": [
    "# Introduction\n",
    "\n",
    "This tutorial will explain the concept of document-oriented databases using MongoDB in Python. Because document-oriented databases do not express relations among data, they are less structured, and operations in document-oriented databases are much faster than analogous operations in a relational database such as MySQL. For this reason, document-oriented databases such as MongoDB scale better than their SQL counterparts, and they are useful for big data.\n",
    "\n",
    "This tutorial will focus on using a MongoDB database as opposed to the implementation of a MongoDB database. Therefore, topics such as file storage, replication, load balancing, and sharding will not be covered in this tutorial. See the References section at the end for further reading."
   ]
  },
  {
   "cell_type": "markdown",
   "metadata": {},
   "source": [
    "## Tutorial Content\n",
    "\n",
    "In this tutorial, we will cover the basics of MongoDB, including CRUD (create, read, update, delete) operations, the aggregation pipeline, map_reduce, indexing, and text search.\n",
    "\n",
    "### Table of Contents\n",
    "\n",
    "* [Installing the Libraries](#Installing-the-Libraries)\n",
    "* [Document-Oriented vs. Relational DB's](#Document-Oriented-vs.-Relational-DB's)\n",
    "* [An Introduction to MongoDB](#An-Introduction-to-MongoDB)\n",
    "* [Operations in MongoDB](#Operations-in-MongoDB)\n",
    "* [The Aggregation Pipeline](#The-Aggregation-Pipeline)\n",
    "* [Map_Reduce](#Map_Reduce)\n",
    "* [Aggregation & Map Reduce Example](#Aggregation-&-Map-Reduce-Example)\n",
    "* [Indexing and Text Search](#Indexing-and-Text-Search)\n",
    "* [References](#References)"
   ]
  },
  {
   "cell_type": "markdown",
   "metadata": {},
   "source": [
    "## Installing the Libraries\n",
    "\n",
    "You'll need to install MongoDB and the Python library pymongo.\n",
    "\n",
    "If you have brew, you can brew MongoDB in the following way.\n",
    "\n",
    "```\n",
    "$ brew update\n",
    "$ brew install mongodb\n",
    "```\n",
    "\n",
    "If you want to install MongoDB with TLS/SSL, you can run\n",
    "\n",
    "```\n",
    "$ brew install mongodb --with-openssl\n",
    "```\n",
    "\n",
    "If not, you can install MongoDB [here](https://www.mongodb.com/download-center \"MongoDB Download\").\n",
    "\n",
    "Now you should install pymongo, the Python library for MongoDB.\n",
    "\n",
    "```\n",
    "$ pip install --upgrade pymongo\n",
    "```"
   ]
  },
  {
   "cell_type": "markdown",
   "metadata": {},
   "source": [
    "# Document-Oriented vs. Relational DB's\n",
    "\n",
    "We will begin by comparing and contrasting document-oriented databases and relational databases. We begin with an example. Suppose you are taking 2 classes. For both of these classes, you have an associated list of test scores, which you have stored as `classes.csv`. We can view this data as a relational database in the following way."
   ]
  },
  {
   "cell_type": "code",
   "execution_count": 1,
   "metadata": {
    "collapsed": false
   },
   "outputs": [
    {
     "name": "stdout",
     "output_type": "stream",
     "text": [
      "    class  grade_1  grade_2  grade_3\n",
      "0  15-388       90       70       80\n",
      "1  15-213      100       50       70\n"
     ]
    }
   ],
   "source": [
    "import sqlite3\n",
    "from MongoTutorialLibrary import load_sql, pretty_print, pretty_print_remove_id\n",
    "conn = sqlite3.connect(\":memory:\")\n",
    "load_sql(conn, \"classes.csv\")"
   ]
  },
  {
   "cell_type": "markdown",
   "metadata": {},
   "source": [
    "This is very straightforward. We have a list of classes and corresponding test scores. However, this is more complicated when we have unequal number of tests. For example, say you scored a 95% on your fourth test in 15-213. You are eager to add this exam to the table, but this proves to be a difficult task. You'd have to add a fourth column, but there is no fourth test score for 15-388 and the table quickly becomes complicated.\n",
    "\n",
    "Note that we could represent classes as grades in seperate tables, with one table for classes and another table for the relations between classes and grades. However, even selecting all information from such a table would take up a lot of resources and proves to be inefficient. Therefore, we will take an alternate approach.\n",
    "\n",
    "Here we introduce the *document-oriented database*. Suppose I have the same data for these classes stored in some `classes.json`."
   ]
  },
  {
   "cell_type": "code",
   "execution_count": 2,
   "metadata": {
    "collapsed": false,
    "scrolled": true
   },
   "outputs": [
    {
     "name": "stdout",
     "output_type": "stream",
     "text": [
      "[\n",
      "  {\n",
      "    \"course\": \"15-388\",\n",
      "    \"scores\": {\n",
      "      \"midterm_1\": 90,\n",
      "      \"midterm_2\": 70,\n",
      "      \"midterm_3\": 80\n",
      "    }\n",
      "  },\n",
      "  {\n",
      "    \"course\": \"15-213\",\n",
      "    \"scores\": {\n",
      "      \"midterm_1\": 100,\n",
      "      \"midterm_2\": 50,\n",
      "      \"midterm_3\": 70\n",
      "    }\n",
      "  },\n",
      "  {\n",
      "    \"course\": \"15-150\",\n",
      "    \"scores\": {}\n",
      "  }\n",
      "]\n"
     ]
    }
   ],
   "source": [
    "import json\n",
    "classes_file = open('classes.json', 'r')\n",
    "classes = json.load(classes_file)\n",
    "print pretty_print(classes)\n",
    "classes_file.close()"
   ]
  },
  {
   "cell_type": "markdown",
   "metadata": {},
   "source": [
    "A document-oriented database allows us to represent a group of *documents* collectively known as a *collection*. In our example, each class is a *document*, and the collection of classes is a *collection*.\n",
    "\n",
    "Noteably, each document does not have to have the same information, and we are able to add our fourth exam score to our 15-213 document with no problem! But how do we add the data to our document? To do this, we will introduce MongoDB."
   ]
  },
  {
   "cell_type": "markdown",
   "metadata": {},
   "source": [
    "# An Introduction to MongoDB\n",
    "\n",
    "In this section we will learn a popular implementation of a document-oriented database, MongoDB.\n",
    "\n",
    "Let's first set up our database from our `classes.json`.\n",
    "\n",
    "Note that this will require a MongoDB instance running on your local machine. To accomplish this, simply run\n",
    "\n",
    "```\n",
    "$ mongod\n",
    "```\n",
    "\n",
    "Note that you may have to pass additional flags or arguments. Run\n",
    "\n",
    "```\n",
    "$ mongod --help\n",
    "```\n",
    "\n",
    "for more information.\n",
    "\n",
    "Notably, you should set up MongoDB to to store information in a directory `data/` and with some subdirectory `db/` (so `<absolute_path>/data/db/`) and record logs in a file within a directory `log/`. You can achieve these with the flags `--dbpath` and `--dbpath`, respectively, as shown below.\n",
    "\n",
    "```\n",
    "$ mongod --dbpath <path>data/db/ --logpath <path>log/mongo.log\n",
    "```"
   ]
  },
  {
   "cell_type": "code",
   "execution_count": 3,
   "metadata": {
    "collapsed": false
   },
   "outputs": [
    {
     "name": "stdout",
     "output_type": "stream",
     "text": [
      "{u'course': u'15-388', u'_id': ObjectId('581d2fe8d64511ae9b3f9793'), u'scores': {u'midterm_1': 90, u'midterm_2': 70, u'midterm_3': 80}}\n",
      "{u'course': u'15-213', u'_id': ObjectId('581d2fe8d64511ae9b3f9794'), u'scores': {u'midterm_1': 100, u'midterm_2': 50, u'midterm_3': 70}}\n",
      "{u'course': u'15-150', u'_id': ObjectId('581d2fe8d64511ae9b3f9795'), u'scores': {}}\n"
     ]
    }
   ],
   "source": [
    "import bson, pymongo\n",
    "from pymongo import MongoClient\n",
    "\n",
    "conn = MongoClient()\n",
    "\n",
    "# create db if it doesn't already exist\n",
    "db = conn.test_database\n",
    "\n",
    "# create collection grades\n",
    "grades = db.grades\n",
    "\n",
    "# make sure grades is empty, so we can run this function multiple times\n",
    "grades.delete_many({})\n",
    "\n",
    "# add entries, initialize list of id's of objects\n",
    "id_objects = grades.insert_many(classes)\n",
    "ids = id_objects.inserted_ids\n",
    "\n",
    "# analogous to \"SELECT * FROM classes;\"\n",
    "grades_list = grades.find()\n",
    "\n",
    "# print all grades\n",
    "for grade in grades_list:\n",
    "    print grade"
   ]
  },
  {
   "cell_type": "markdown",
   "metadata": {
    "collapsed": true
   },
   "source": [
    "And we have successfully created a collection with our grades. But you want to put your great test score in the collection! Let's take a look at how to modify a document.\n",
    "\n",
    "If we know the ID of the document, this process is quite simple. We can find a *single* document with `<collection>.find_one()` and update a collection with `<collection>.update_one()`."
   ]
  },
  {
   "cell_type": "code",
   "execution_count": 4,
   "metadata": {
    "collapsed": false
   },
   "outputs": [
    {
     "name": "stdout",
     "output_type": "stream",
     "text": [
      "581d2fe8d64511ae9b3f9794\n",
      "\n",
      "{u'course': u'15-213', u'_id': ObjectId('581d2fe8d64511ae9b3f9794'), u'scores': {u'midterm_1': 100, u'midterm_2': 50, u'midterm_3': 70}}\n",
      "\n",
      "{u'course': u'15-213', u'_id': ObjectId('581d2fe8d64511ae9b3f9794'), u'scores': {u'midterm_4': 95, u'midterm_1': 100, u'midterm_2': 50, u'midterm_3': 70}}\n"
     ]
    }
   ],
   "source": [
    "# this is the id we want\n",
    "courseId = ids[1]\n",
    "print courseId\n",
    "\n",
    "# print newline and the document\n",
    "print\n",
    "print grades.find_one({\"_id\": courseId})\n",
    "\n",
    "# update the document\n",
    "grades.update_one({'_id': courseId}, {\"$set\": {'scores.midterm_4': 95}}, upsert=True)\n",
    "\n",
    "# print newline and the updated document\n",
    "print\n",
    "print grades.find_one({\"_id\": courseId})"
   ]
  },
  {
   "cell_type": "markdown",
   "metadata": {},
   "source": [
    "Let's make a few notes. Firstly, we use the keyword `$set` to set the key `'4'` to value `95`. Also, we need to pass the parameter upsert=True to indicate that we wish to add this field if it doesn't exist already.\n",
    "\n",
    "Now you have received a great homework grade for 15-388: 100%! You are anxious to add this score, but unfortunately, we have lost our list of id's!"
   ]
  },
  {
   "cell_type": "code",
   "execution_count": 5,
   "metadata": {
    "collapsed": true
   },
   "outputs": [],
   "source": [
    "id_objects = None\n",
    "ids = []"
   ]
  },
  {
   "cell_type": "markdown",
   "metadata": {},
   "source": [
    "We will have to find the document using only the information that the `course` is `15-388`. Fortunately, we have an alternate way to select documents!"
   ]
  },
  {
   "cell_type": "code",
   "execution_count": 6,
   "metadata": {
    "collapsed": false
   },
   "outputs": [
    {
     "name": "stdout",
     "output_type": "stream",
     "text": [
      "{u'course': u'15-388', u'_id': ObjectId('581d2fe8d64511ae9b3f9793'), u'scores': {u'midterm_1': 90, u'midterm_2': 70, u'midterm_3': 80}}\n",
      "\n",
      "{u'course': u'15-388', u'_id': ObjectId('581d2fe8d64511ae9b3f9793'), u'scores': {u'homework_1': 100, u'midterm_1': 90, u'midterm_2': 70, u'midterm_3': 80}}\n"
     ]
    }
   ],
   "source": [
    "# print the document\n",
    "print grades.find_one({\"course\": '15-388'})\n",
    "\n",
    "# update the document\n",
    "grades.update_one({\"course\": '15-388'}, {\"$set\": {'scores.homework_1': 100}}, upsert=True)\n",
    "\n",
    "# print newline and the updated document\n",
    "print\n",
    "print grades.find_one({\"course\": '15-388'})"
   ]
  },
  {
   "cell_type": "markdown",
   "metadata": {},
   "source": [
    "You notice there's an error! In your database, your midterm 2 score in 15-388 is a 70%, but you actually got a 90%. You're going to need to change that! To change a value, we use the same syntax as adding a value. The only difference is we don't need `upsert=True`, and so we will eliminate this parameter (`upsert=False` by default)."
   ]
  },
  {
   "cell_type": "code",
   "execution_count": 7,
   "metadata": {
    "collapsed": false
   },
   "outputs": [
    {
     "name": "stdout",
     "output_type": "stream",
     "text": [
      "{u'course': u'15-388', u'_id': ObjectId('581d2fe8d64511ae9b3f9793'), u'scores': {u'homework_1': 100, u'midterm_1': 90, u'midterm_2': 90, u'midterm_3': 80}}\n"
     ]
    }
   ],
   "source": [
    "# update the document\n",
    "grades.update_one({\"course\": '15-388'}, {\"$set\": {'scores.midterm_2': 90}})\n",
    "\n",
    "# print the updated document\n",
    "print grades.find_one({\"course\": '15-388'})"
   ]
  },
  {
   "cell_type": "markdown",
   "metadata": {},
   "source": [
    "Finally, we will show you how to remove a document.\n",
    "\n",
    "You don't like 15-150, and so you are electing to drop the course. You want to remove it from your schedule.\n",
    "\n",
    "To remove a document, we use the `.delete_one()` function to remove one document or `.delete_many()` to remove several documents. Since we only want to remove one document, we will simply use `.delete_one()`."
   ]
  },
  {
   "cell_type": "code",
   "execution_count": 8,
   "metadata": {
    "collapsed": false
   },
   "outputs": [
    {
     "name": "stdout",
     "output_type": "stream",
     "text": [
      "{u'course': u'15-388', u'_id': ObjectId('581d2fe8d64511ae9b3f9793'), u'scores': {u'homework_1': 100, u'midterm_1': 90, u'midterm_2': 90, u'midterm_3': 80}}\n",
      "{u'course': u'15-213', u'_id': ObjectId('581d2fe8d64511ae9b3f9794'), u'scores': {u'midterm_4': 95, u'midterm_1': 100, u'midterm_2': 50, u'midterm_3': 70}}\n"
     ]
    }
   ],
   "source": [
    "# remove the document\n",
    "grades.delete_one({\"course\": '15-150'})\n",
    "\n",
    "# print the updated document\n",
    "for course in grades.find():\n",
    "    print course"
   ]
  },
  {
   "cell_type": "markdown",
   "metadata": {},
   "source": [
    "And we've removed the course!"
   ]
  },
  {
   "cell_type": "markdown",
   "metadata": {},
   "source": [
    "# Operations in MongoDB\n",
    "\n",
    "It's midsemester and you want to calculate your midsemester grade! To do this, you'll need to understand a little about operations in MongoDB.\n",
    "\n",
    "Let's start by averaging midterm scores for each class. Of course, we can select each class as a python object and iterate through them."
   ]
  },
  {
   "cell_type": "code",
   "execution_count": 9,
   "metadata": {
    "collapsed": false
   },
   "outputs": [
    {
     "name": "stdout",
     "output_type": "stream",
     "text": [
      "{u'15-388': 90.0, u'15-213': 78.75}\n"
     ]
    }
   ],
   "source": [
    "avgs = {}\n",
    "for class_ in grades.find():\n",
    "    total = 0\n",
    "    count = 0\n",
    "    for _, score in class_['scores'].iteritems():\n",
    "        total += score\n",
    "        count += 1\n",
    "    avgs[class_['course']] = float(total) / count\n",
    "print avgs"
   ]
  },
  {
   "cell_type": "markdown",
   "metadata": {},
   "source": [
    "But we have to write our own code, and this is inefficient."
   ]
  },
  {
   "cell_type": "markdown",
   "metadata": {},
   "source": [
    "# The Aggregation Pipeline\n",
    "\n",
    "Here we introducte the topic of the *aggregation*. To simplify this transition, we will define a new database with the same information stored differently. This database will allow for a more intuitive explanation of the concept of the *aggregation pipeline*."
   ]
  },
  {
   "cell_type": "code",
   "execution_count": 10,
   "metadata": {
    "collapsed": false
   },
   "outputs": [
    {
     "name": "stdout",
     "output_type": "stream",
     "text": [
      "{u'course': u'15-388', u'_id': ObjectId('581d2fe8d64511ae9b3f9796'), u'exam_name': u'midterm_1', u'score': 90}\n",
      "{u'course': u'15-388', u'_id': ObjectId('581d2fe8d64511ae9b3f9797'), u'exam_name': u'midterm_2', u'score': 90}\n",
      "{u'course': u'15-388', u'_id': ObjectId('581d2fe8d64511ae9b3f9798'), u'exam_name': u'midterm_3', u'score': 80}\n",
      "{u'course': u'15-388', u'_id': ObjectId('581d2fe8d64511ae9b3f9799'), u'exam_name': u'homework_1', u'score': 100}\n",
      "{u'course': u'15-213', u'_id': ObjectId('581d2fe8d64511ae9b3f979a'), u'exam_name': u'midterm_1', u'score': 100}\n",
      "{u'course': u'15-213', u'_id': ObjectId('581d2fe8d64511ae9b3f979b'), u'exam_name': u'midterm_2', u'score': 50}\n",
      "{u'course': u'15-213', u'_id': ObjectId('581d2fe8d64511ae9b3f979c'), u'exam_name': u'midterm_3', u'score': 70}\n",
      "{u'course': u'15-213', u'_id': ObjectId('581d2fe8d64511ae9b3f979d'), u'exam_name': u'midterm_4', u'score': 95}\n"
     ]
    }
   ],
   "source": [
    "# create collection grades\n",
    "grades_by_test = db.grades_by_test\n",
    "\n",
    "# make sure grades is empty, so we can run this function multiple times\n",
    "grades_by_test.delete_many({})\n",
    "\n",
    "# add entries, initialize list of id's of objects\n",
    "classes_by_test_file = open('classes-by-test.json', 'r')\n",
    "id_objects = grades_by_test.insert_many(json.load(classes_by_test_file))\n",
    "ids = id_objects.inserted_ids\n",
    "classes_by_test_file.close()\n",
    "\n",
    "# analogous to \"SELECT * FROM classes;\"\n",
    "grades_by_test_list = grades_by_test.find()\n",
    "\n",
    "# print all grades\n",
    "for grade in grades_by_test_list:\n",
    "    print grade"
   ]
  },
  {
   "cell_type": "markdown",
   "metadata": {},
   "source": [
    "We will use the aggregation framework. Aggregation is useful when we want to perform very general tasks on a set of data. For example, we can easily take the average of all a student's scores.\n",
    "\n",
    "The aggregation pipeline is a set of *stages*. We begin with our set of documents, and then each *stage* modifies the documents and passes resulting documents to the next stage. In our example we only have one stage, a `$group`. We group documents by `course` and compute the average of each document's `score` field. In the next section, we go over a more in-depth example with multiple stages.\n",
    "\n",
    "Note that a full list of stages can be found [here](https://docs.mongodb.com/manual/reference/operator/aggregation-pipeline/ \"MongoDB Aggregate Stages\")"
   ]
  },
  {
   "cell_type": "code",
   "execution_count": 11,
   "metadata": {
    "collapsed": false
   },
   "outputs": [
    {
     "name": "stdout",
     "output_type": "stream",
     "text": [
      "[\n",
      "  {\n",
      "    \"_id\": \"15-213\",\n",
      "    \"avg_score\": 78.75\n",
      "  },\n",
      "  {\n",
      "    \"_id\": \"15-388\",\n",
      "    \"avg_score\": 90.0\n",
      "  }\n",
      "]\n"
     ]
    }
   ],
   "source": [
    "pipeline = [{\n",
    "        '$group': {\n",
    "            \"_id\": \"$course\",\n",
    "            \"avg_score\": {\n",
    "                \"$avg\":\"$score\"\n",
    "            }\n",
    "        }\n",
    "}]\n",
    "\n",
    "print pretty_print(list(grades_by_test.aggregate(pipeline)))"
   ]
  },
  {
   "cell_type": "markdown",
   "metadata": {},
   "source": [
    "For more complex operations, we introduce the more versatile `map_reduce` function."
   ]
  },
  {
   "cell_type": "markdown",
   "metadata": {},
   "source": [
    "# Map_Reduce\n",
    "\n",
    "In this section we will discuss Mapping and Reducing in MongoDB. This is a method to aggregate large amounts of data into some convenient representation. Note that map and reduce must be JavaScript functions, and so this section will require some knowledge of JavaScript. [Here](https://developer.mozilla.org/en-US/docs/Web/JavaScript \"JavaScript Documentation\") is a link to JavaScript Docs, which includes a good tutorial that can be found [here](https://developer.mozilla.org/en-US/docs/Web/JavaScript/Guide \"JavaScript Guide\"). I also personally endorse [Codecademy's JavaScript tutorial](https://www.codecademy.com/learn/javascript \"Codecademy JavaScript\") as a brief introduction to the language.\n",
    "\n",
    "We first discuss the **map** step of this process. In general, *mapping* is a concept in functional programming where we map every element of some list L to some element in a new list L'. In MongoDB, this is achieved by *emitting* key-value pairs for each element in the list L. Note that each element of list L can emit an arbitrary number of times (including 0). After emitting, each key `k` has a corresponding list `L` of values `[l1, ..., ln]` such that for each `li` (`k`, `li`) was emitted by map.\n",
    "\n",
    "We construct a function `mapper` that will be given each document as input. We can reference the document with the keyword `this`.\n",
    "\n",
    "After mapping, we **reduce** our key-value pairs. We use a function that processes the accumulated list `L` and returns some value `v` that will be associated with each key.\n",
    "\n",
    "Let's begin writing our aggregate as a mapreduce! We first want to select which key-value pair to emit. course, score makes sense because a list of scores associated with each course could simply be averaged after the map step. We can then reduce by simply computing the average for each list `L`. Don't worry too much about the JavaScript syntax, but you should be able to understand the meaning of each function."
   ]
  },
  {
   "cell_type": "code",
   "execution_count": 12,
   "metadata": {
    "collapsed": false
   },
   "outputs": [
    {
     "name": "stdout",
     "output_type": "stream",
     "text": [
      "{u'_id': u'15-213', u'value': 78.75}\n",
      "{u'_id': u'15-388', u'value': 90.0}\n"
     ]
    }
   ],
   "source": [
    "from bson.code import Code\n",
    "\n",
    "# emits course, score\n",
    "mapper = Code(\"\"\"\n",
    "              function() {\n",
    "                emit(this.course, this.score);\n",
    "              }\n",
    "              \"\"\")\n",
    "\n",
    "# computes average of each list of test scores\n",
    "reducer = Code(\"\"\"\n",
    "               function(key, values) {\n",
    "                 var total = 0;\n",
    "                 var length = values.length;\n",
    "                 \n",
    "                 for (var i = 0; i < length; i++) { //compute average\n",
    "                   total += values[i];\n",
    "                 }\n",
    "                 \n",
    "                 return total / length;\n",
    "               }\n",
    "               \"\"\")\n",
    "\n",
    "# mapreduce to find averages\n",
    "averages = grades_by_test.map_reduce(mapper, reducer, \"averages\")\n",
    "\n",
    "for average in averages.find():\n",
    "    print average"
   ]
  },
  {
   "cell_type": "markdown",
   "metadata": {},
   "source": [
    "And we have a list of averages, like before. What's more interesting though is that mapreduce can be used on our original dataset! Let's try this."
   ]
  },
  {
   "cell_type": "code",
   "execution_count": 13,
   "metadata": {
    "collapsed": false
   },
   "outputs": [
    {
     "name": "stdout",
     "output_type": "stream",
     "text": [
      "{u'_id': u'15-213', u'value': 78.75}\n",
      "{u'_id': u'15-388', u'value': 90.0}\n"
     ]
    }
   ],
   "source": [
    "# emits course, score\n",
    "mapper = Code(\"\"\"\n",
    "              function() {\n",
    "                for (var key in this.scores) { //iterate through dictionary\n",
    "                  emit(this.course, this.scores[key]);\n",
    "                }\n",
    "              }\n",
    "              \"\"\")\n",
    "\n",
    "# mapreduce to find averages\n",
    "averages_2 = grades.map_reduce(mapper, reducer, \"averages_2\")\n",
    "\n",
    "for average in averages_2.find():\n",
    "    print average"
   ]
  },
  {
   "cell_type": "markdown",
   "metadata": {},
   "source": [
    "Notice that our map function on this dataset yielded the same result as last time, so we can use the same reduce function."
   ]
  },
  {
   "cell_type": "markdown",
   "metadata": {},
   "source": [
    "# Aggregation & Map Reduce Example\n",
    "\n",
    "Let's walk through a more difficult example. We begin by reading in data from a json."
   ]
  },
  {
   "cell_type": "code",
   "execution_count": 14,
   "metadata": {
    "collapsed": false
   },
   "outputs": [
    {
     "name": "stdout",
     "output_type": "stream",
     "text": [
      "{u'courses': [{u'homeworks': [95, 100, 93], u'course': u'15-388', u'midterms': [90, 85, 95]}, {u'homeworks': [90, 80, 85], u'course': u'15-213', u'midterms': [80, 97, 85]}], u'_id': ObjectId('581d2fe9d64511ae9b3f979e'), u'name': u'Alice Johnson'}\n",
      "{u'courses': [{u'homeworks': [80, 100, 90], u'course': u'15-388', u'midterms': [70, 100, 92]}, {u'homeworks': [84, 96, 80], u'course': u'15-213', u'midterms': [96, 94, 80]}], u'_id': ObjectId('581d2fe9d64511ae9b3f979f'), u'name': u'Bob Smith'}\n",
      "{u'courses': [{u'homeworks': [100, 95, 97], u'course': u'15-150', u'midterms': []}], u'_id': ObjectId('581d2fe9d64511ae9b3f97a0'), u'name': u'Eve Williams'}\n"
     ]
    }
   ],
   "source": [
    "# create collection grades\n",
    "students = db.students\n",
    "\n",
    "# make sure grades is empty, so we can run this function multiple times\n",
    "students.delete_many({})\n",
    "\n",
    "# add entries, initialize list of id's of objects\n",
    "students_file = open('students.json', 'r')\n",
    "id_objects = students.insert_many(json.load(students_file))\n",
    "ids = id_objects.inserted_ids\n",
    "students_file.close()\n",
    "\n",
    "# analogous to \"SELECT * FROM classes;\"\n",
    "students_list = students.find()\n",
    "\n",
    "# print all grades\n",
    "for student in students_list:\n",
    "    print student"
   ]
  },
  {
   "cell_type": "markdown",
   "metadata": {},
   "source": [
    "You want to calculate your homework average for each class! For this, we can use the aggregation pipeline as before. We will show each stage of the aggregation pipeline seperately to demonstrate the effects of each stage.\n",
    "\n",
    "We begin with an `$unwind` stage. Unwind creates a document for each element of a list within a document. Using unwind, we pass the path to the `courses` list and create a new document for each course an individual is in. Further information on `$unwind` is available [here](https://docs.mongodb.com/manual/reference/operator/aggregation/unwind/)."
   ]
  },
  {
   "cell_type": "code",
   "execution_count": 15,
   "metadata": {
    "collapsed": false
   },
   "outputs": [
    {
     "name": "stdout",
     "output_type": "stream",
     "text": [
      "[\n",
      "  {\n",
      "    \"courses\": {\n",
      "      \"course\": \"15-388\",\n",
      "      \"homeworks\": [\n",
      "        95,\n",
      "        100,\n",
      "        93\n",
      "      ],\n",
      "      \"midterms\": [\n",
      "        90,\n",
      "        85,\n",
      "        95\n",
      "      ]\n",
      "    },\n",
      "    \"name\": \"Alice Johnson\"\n",
      "  },\n",
      "  {\n",
      "    \"courses\": {\n",
      "      \"course\": \"15-213\",\n",
      "      \"homeworks\": [\n",
      "        90,\n",
      "        80,\n",
      "        85\n",
      "      ],\n",
      "      \"midterms\": [\n",
      "        80,\n",
      "        97,\n",
      "        85\n",
      "      ]\n",
      "    },\n",
      "    \"name\": \"Alice Johnson\"\n",
      "  },\n",
      "  {\n",
      "    \"courses\": {\n",
      "      \"course\": \"15-388\",\n",
      "      \"homeworks\": [\n",
      "        80,\n",
      "        100,\n",
      "        90\n",
      "      ],\n",
      "      \"midterms\": [\n",
      "        70,\n",
      "        100,\n",
      "        92\n",
      "      ]\n",
      "    },\n",
      "    \"name\": \"Bob Smith\"\n",
      "  },\n",
      "  {\n",
      "    \"courses\": {\n",
      "      \"course\": \"15-213\",\n",
      "      \"homeworks\": [\n",
      "        84,\n",
      "        96,\n",
      "        80\n",
      "      ],\n",
      "      \"midterms\": [\n",
      "        96,\n",
      "        94,\n",
      "        80\n",
      "      ]\n",
      "    },\n",
      "    \"name\": \"Bob Smith\"\n",
      "  },\n",
      "  {\n",
      "    \"courses\": {\n",
      "      \"course\": \"15-150\",\n",
      "      \"homeworks\": [\n",
      "        100,\n",
      "        95,\n",
      "        97\n",
      "      ],\n",
      "      \"midterms\": []\n",
      "    },\n",
      "    \"name\": \"Eve Williams\"\n",
      "  }\n",
      "]\n"
     ]
    }
   ],
   "source": [
    "pipeline = [{\n",
    "        '$unwind': {\n",
    "            \"path\": \"$courses\"\n",
    "        }\n",
    "}]\n",
    "\n",
    "# special print function removes id\n",
    "print pretty_print_remove_id(students, pipeline)"
   ]
  },
  {
   "cell_type": "markdown",
   "metadata": {},
   "source": [
    "We then use a `$project` stage, which only passes along some parts of a document. We construct a dictionary of what we want and do not want to include. We can create a new field with key, value `<new_field_name>: <formula`>, or we can select certain information to include with `<existing_field_name>: True` (or, equivalently, `<existing_field_name>: 1`). We can also choose to remove the id element with `id: False`."
   ]
  },
  {
   "cell_type": "code",
   "execution_count": 16,
   "metadata": {
    "collapsed": false
   },
   "outputs": [
    {
     "name": "stdout",
     "output_type": "stream",
     "text": [
      "[\n",
      "  {\n",
      "    \"course\": \"15-388\",\n",
      "    \"homework_avg\": 96.0,\n",
      "    \"midterm_avg\": 90.0,\n",
      "    \"name\": \"Alice Johnson\"\n",
      "  },\n",
      "  {\n",
      "    \"course\": \"15-213\",\n",
      "    \"homework_avg\": 85.0,\n",
      "    \"midterm_avg\": 87.33333333333333,\n",
      "    \"name\": \"Alice Johnson\"\n",
      "  },\n",
      "  {\n",
      "    \"course\": \"15-388\",\n",
      "    \"homework_avg\": 90.0,\n",
      "    \"midterm_avg\": 87.33333333333333,\n",
      "    \"name\": \"Bob Smith\"\n",
      "  },\n",
      "  {\n",
      "    \"course\": \"15-213\",\n",
      "    \"homework_avg\": 86.66666666666667,\n",
      "    \"midterm_avg\": 90.0,\n",
      "    \"name\": \"Bob Smith\"\n",
      "  },\n",
      "  {\n",
      "    \"course\": \"15-150\",\n",
      "    \"homework_avg\": 97.33333333333333,\n",
      "    \"midterm_avg\": null,\n",
      "    \"name\": \"Eve Williams\"\n",
      "  }\n",
      "]\n"
     ]
    }
   ],
   "source": [
    "pipeline = [{\n",
    "        '$unwind': {\n",
    "            \"path\": \"$courses\"\n",
    "        }}, {\n",
    "        '$project': {\n",
    "            'homework_avg': {'$avg': '$courses.homeworks'},\n",
    "            'midterm_avg': {'$avg': '$courses.midterms'},\n",
    "            'course': '$courses.course',\n",
    "            'name': True,\n",
    "            '_id': False\n",
    "        }\n",
    "}]\n",
    "\n",
    "print pretty_print(list(students.aggregate(pipeline)))"
   ]
  },
  {
   "cell_type": "markdown",
   "metadata": {},
   "source": [
    "We then group the documents back together. `$group` takes a field `_id` which is what you want the elements to be grouped by. In this case, we group by `$name`. We then construct some formula to combine all documents with this `_id`. In this case, we simply want to copy all fields. We use the `$push` operation, which creates a list and pushes all values (given by `$push: <value>`) onto the list."
   ]
  },
  {
   "cell_type": "code",
   "execution_count": 17,
   "metadata": {
    "collapsed": false
   },
   "outputs": [
    {
     "name": "stdout",
     "output_type": "stream",
     "text": [
      "[\n",
      "  {\n",
      "    \"_id\": \"Eve Williams\",\n",
      "    \"courses\": [\n",
      "      {\n",
      "        \"course\": \"15-150\",\n",
      "        \"homework_avg\": 97.33333333333333,\n",
      "        \"midterm_avg\": null\n",
      "      }\n",
      "    ]\n",
      "  },\n",
      "  {\n",
      "    \"_id\": \"Bob Smith\",\n",
      "    \"courses\": [\n",
      "      {\n",
      "        \"course\": \"15-388\",\n",
      "        \"homework_avg\": 90.0,\n",
      "        \"midterm_avg\": 87.33333333333333\n",
      "      },\n",
      "      {\n",
      "        \"course\": \"15-213\",\n",
      "        \"homework_avg\": 86.66666666666667,\n",
      "        \"midterm_avg\": 90.0\n",
      "      }\n",
      "    ]\n",
      "  },\n",
      "  {\n",
      "    \"_id\": \"Alice Johnson\",\n",
      "    \"courses\": [\n",
      "      {\n",
      "        \"course\": \"15-388\",\n",
      "        \"homework_avg\": 96.0,\n",
      "        \"midterm_avg\": 90.0\n",
      "      },\n",
      "      {\n",
      "        \"course\": \"15-213\",\n",
      "        \"homework_avg\": 85.0,\n",
      "        \"midterm_avg\": 87.33333333333333\n",
      "      }\n",
      "    ]\n",
      "  }\n",
      "]\n"
     ]
    }
   ],
   "source": [
    "pipeline = [{\n",
    "        '$unwind': {\n",
    "            \"path\": \"$courses\"\n",
    "        }}, {\n",
    "        '$project': {\n",
    "            'homework_avg': {'$avg': '$courses.homeworks'},\n",
    "            'midterm_avg': {'$avg': '$courses.midterms'},\n",
    "            'course': '$courses.course',\n",
    "            'name': True,\n",
    "            '_id': False\n",
    "        }}, {\n",
    "        '$group': {\n",
    "            '_id': '$name',\n",
    "            'courses': {\n",
    "                '$push': {'course': '$course', 'homework_avg': '$homework_avg', 'midterm_avg': '$midterm_avg'}\n",
    "            }\n",
    "        }\n",
    "}]\n",
    "\n",
    "print pretty_print(list(students.aggregate(pipeline)))"
   ]
  },
  {
   "cell_type": "markdown",
   "metadata": {},
   "source": [
    "Now let's try to do the same process with map_reduce. However, map_reduce is more powerful, and so we will use it to compute overall grade in each class! Say we define overall grade to be 70% tests and 30% homework if both tests and homeworks are given, or 100% of one field if only one is given."
   ]
  },
  {
   "cell_type": "code",
   "execution_count": 33,
   "metadata": {
    "collapsed": false
   },
   "outputs": [
    {
     "name": "stdout",
     "output_type": "stream",
     "text": [
      "{u'_id': u'Alice Johnson', u'value': [{u'homeworks': [95, 100, 93], u'course': u'15-388', u'midterms': [90, 85, 95]}, {u'homeworks': [90, 80, 85], u'course': u'15-213', u'midterms': [80, 97, 85]}]}\n",
      "{u'_id': u'Bob Smith', u'value': [{u'homeworks': [80, 100, 90], u'course': u'15-388', u'midterms': [70, 100, 92]}, {u'homeworks': [84, 96, 80], u'course': u'15-213', u'midterms': [96, 94, 80]}]}\n",
      "{u'_id': u'Eve Williams', u'value': [{u'homeworks': [100, 95, 97], u'course': u'15-150', u'midterms': []}]}\n"
     ]
    }
   ],
   "source": [
    "# emits name, course\n",
    "mapper = Code(\"\"\"\n",
    "              function() {\n",
    "                emit(this.name, this.courses);\n",
    "              }\n",
    "              \"\"\")\n",
    "\n",
    "# computes average of each course and returns dictionary of averages\n",
    "reducer = Code(\"\"\"\n",
    "               function(name, courses){\n",
    "                 /*function avg(L) {\n",
    "                   var total = 0;\n",
    "                   var length = L.length;\n",
    "                 \n",
    "                   for (var i = 0; i < length; i++) {\n",
    "                     total += L[i];\n",
    "                   }\n",
    "             \n",
    "                   return avg;\n",
    "                 }*/\n",
    "                 \n",
    "                 var result = {};\n",
    "               \n",
    "                 for (var i = 0; i < courses.length; i++) {\n",
    "                   result[courses[i][\"course\"]] = courses[i]['homeworks'];\n",
    "                 }\n",
    "                 \n",
    "                 return result;\n",
    "               }\n",
    "               \"\"\")\n",
    "\n",
    "# mapreduce to find averages\n",
    "course_averages = students.map_reduce(mapper, reducer, \"course_averages\")\n",
    "\n",
    "for average in course_averages.find():\n",
    "    print average"
   ]
  },
  {
   "cell_type": "markdown",
   "metadata": {},
   "source": [
    "# Indexing and Text Search\n",
    "\n",
    "Now you want to lookup Bob's schedule and grades. But you forgot his last name! You'll need some kind of search feature.\n",
    "\n",
    "To enable search, we first must *index* our data. We can index on any "
   ]
  },
  {
   "cell_type": "code",
   "execution_count": 19,
   "metadata": {
    "collapsed": false
   },
   "outputs": [
    {
     "name": "stdout",
     "output_type": "stream",
     "text": [
      "[u'name_text', u'_id_', u'name_1']\n",
      "{u'courses': [{u'homeworks': [95, 100, 93], u'course': u'15-388', u'midterms': [90, 85, 95]}, {u'homeworks': [90, 80, 85], u'course': u'15-213', u'midterms': [80, 97, 85]}], u'_id': ObjectId('581d2fe9d64511ae9b3f979e'), u'name': u'Alice Johnson'}\n",
      "{u'courses': [{u'homeworks': [80, 100, 90], u'course': u'15-388', u'midterms': [70, 100, 92]}, {u'homeworks': [84, 96, 80], u'course': u'15-213', u'midterms': [96, 94, 80]}], u'_id': ObjectId('581d2fe9d64511ae9b3f979f'), u'name': u'Bob Smith'}\n",
      "{u'courses': [{u'homeworks': [100, 95, 97], u'course': u'15-150', u'midterms': []}], u'_id': ObjectId('581d2fe9d64511ae9b3f97a0'), u'name': u'Eve Williams'}\n"
     ]
    }
   ],
   "source": [
    "result = students.create_index([('name', 'text')])\n",
    "print list(students.index_information())\n",
    "\n",
    "for student in students.find():\n",
    "    print student"
   ]
  },
  {
   "cell_type": "markdown",
   "metadata": {},
   "source": [
    "Using our find method, we can now search the data!"
   ]
  },
  {
   "cell_type": "code",
   "execution_count": 20,
   "metadata": {
    "collapsed": false
   },
   "outputs": [
    {
     "name": "stdout",
     "output_type": "stream",
     "text": [
      "{u'courses': [{u'homeworks': [80, 100, 90], u'course': u'15-388', u'midterms': [70, 100, 92]}, {u'homeworks': [84, 96, 80], u'course': u'15-213', u'midterms': [96, 94, 80]}], u'_id': ObjectId('581d2fe9d64511ae9b3f979f'), u'name': u'Bob Smith'}\n"
     ]
    }
   ],
   "source": [
    "search_result = students.find({\"$text\": {\"$search\": 'Bob'}})\n",
    "for student in search_result:\n",
    "    print student"
   ]
  },
  {
   "cell_type": "markdown",
   "metadata": {},
   "source": [
    "# References\n",
    "\n",
    "Document-Oriented Databases:\n",
    "1. [Wikipedia Document-Oriented Database](https://en.wikipedia.org/wiki/Document-oriented_database \"Wikipedia Document-Oriented Database\")\n",
    "2. [Document-Oriented Databases and MongoDB](https://www.mongodb.com/document-databases \"Document-Oriented Databases and MongoDB\")\n",
    "\n",
    "MongoDB:\n",
    "1. [MongoDB Manual](https://docs.mongodb.com/manual/ \"MongoDB Manual\")\n",
    "2. [Aggregation Pipeline](https://docs.mongodb.com/manual/core/aggregation-pipeline/ \"Aggregation Pipeline\")\n",
    "3. [Map-Reduce](https://docs.mongodb.com/manual/core/map-reduce/ \"Map-Reduce\")\n",
    "4. [Sharding](https://docs.mongodb.com/manual/sharding/ \"Sharding\")\n",
    "\n",
    "PyMongo:\n",
    "1. [Pymongo Documentation](https://api.mongodb.com/python/current/ \"Pymongo Documentation\")\n",
    "2. [Getting Started MongoDB - Python](https://docs.mongodb.com/getting-started/python/ \"Getting Started MongoDB - Python\")\n",
    "\n",
    "JavaScript:\n",
    "1. [JavaScript Documentation](https://developer.mozilla.org/en-US/docs/Web/JavaScript \"JavaScript Documentation\")\n",
    "2. [JavaScript Guide](https://developer.mozilla.org/en-US/docs/Web/JavaScript/Guide \"JavaScript Guide\")\n",
    "3. [Codecademy JavaScript](https://www.codecademy.com/learn/javascript \"Codecademy JavaScript\")"
   ]
  },
  {
   "cell_type": "code",
   "execution_count": null,
   "metadata": {
    "collapsed": true
   },
   "outputs": [],
   "source": []
  }
 ],
 "metadata": {
  "anaconda-cloud": {},
  "kernelspec": {
   "display_name": "Python [Root]",
   "language": "python",
   "name": "Python [Root]"
  },
  "language_info": {
   "codemirror_mode": {
    "name": "ipython",
    "version": 2
   },
   "file_extension": ".py",
   "mimetype": "text/x-python",
   "name": "python",
   "nbconvert_exporter": "python",
   "pygments_lexer": "ipython2",
   "version": "2.7.12"
  }
 },
 "nbformat": 4,
 "nbformat_minor": 0
}
