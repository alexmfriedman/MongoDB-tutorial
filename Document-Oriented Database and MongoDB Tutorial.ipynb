{
 "cells": [
  {
   "cell_type": "markdown",
   "metadata": {},
   "source": [
    "# Introduction\n",
    "\n",
    "This tutorial will explain the concept of document-oriented databases using MongoDB in Python. Because document-oriented databases do not express relations among data, they are less structured, and operations in document-oriented databases are much faster. For this reason, document-oriented databases such as MongoDB scale very well, and they are useful for big data."
   ]
  },
  {
   "cell_type": "markdown",
   "metadata": {},
   "source": [
    "## Installing the Libraries\n",
    "\n",
    "You'll need to install MongoDB and the Python library pymongo.\n",
    "\n",
    "If you have brew, you can brew MongoDB in the following way.\n",
    "\n",
    "```\n",
    "$ brew update\n",
    "$ brew install mongodb\n",
    "```\n",
    "\n",
    "If you want to install MongoDB with TLS/SSL, you can run\n",
    "\n",
    "```\n",
    "$ brew install mongodb --with-openssl\n",
    "```\n",
    "\n",
    "If not, you can install MongoDB [here](https://www.mongodb.com/download-center \"MongoDB Download\").\n",
    "\n",
    "Now you should install pymongo, the Python library for MongoDB.\n",
    "\n",
    "```\n",
    "$ pip install --upgrade pymongo\n",
    "```"
   ]
  },
  {
   "cell_type": "markdown",
   "metadata": {},
   "source": [
    "# Document-Oriented vs. Relational DB's\n",
    "\n",
    "We will begin by relating (pun intented) document-oriented databases to relational databases. We begin with an example. Suppose I am taking 2 classes. For both of these classes, I have an associated list of test scores. Suppose I have the same data stored as `classes.csv`. We can view this data as a relational database in the following way."
   ]
  },
  {
   "cell_type": "code",
   "execution_count": 1,
   "metadata": {
    "collapsed": false
   },
   "outputs": [
    {
     "name": "stdout",
     "output_type": "stream",
     "text": [
      "    class  grade_1  grade_2  grade_3\n",
      "0  15-388       90       70       80\n",
      "1  15-213      100       50       70\n"
     ]
    }
   ],
   "source": [
    "import sqlite3, csv, pandas as pd #make macro\n",
    "conn = sqlite3.connect(\":memory:\")\n",
    "classes_file = open('classes.csv')\n",
    "conn.execute(\"CREATE TABLE classes(class TEXT, grade_1 INT, grade_2 INT, grade_3 INT);\")\n",
    "rows = [(row['course'], row['midterm_1'], row['midterm_2'], row['midterm_3']) for row in csv.DictReader(classes_file)]\n",
    "classes_file.close()\n",
    "conn.executemany(\"INSERT INTO classes (class, grade_1, grade_2, grade_3) VALUES (?,?,?,?);\", rows)\n",
    "conn.commit()\n",
    "print pd.read_sql(\"SELECT * FROM classes;\", conn)"
   ]
  },
  {
   "cell_type": "markdown",
   "metadata": {},
   "source": [
    "This is very straightforward. We have a list of classes and corresponding test scores. However, this is more complicated when we have uneven number of tests. For example, say we got a 95% on our fourth test in 15-213. We are eager to add this exam to our table, but this proves to be a difficult task. We have to add a fourth column, but there is no fourth test score for 15-388 and we have to use NULL to represent this score.\n",
    "\n",
    "Note that we could represent classes as grades in seperate tables, with one table for classes and another table for the relations between classes and grades. However, we will take an alternate approach.\n",
    "\n",
    "We introduce the document-oriented database. Suppose I have the same data for these classes stored in some `classes.json`."
   ]
  },
  {
   "cell_type": "code",
   "execution_count": 2,
   "metadata": {
    "collapsed": false,
    "scrolled": true
   },
   "outputs": [
    {
     "name": "stdout",
     "output_type": "stream",
     "text": [
      "[\n",
      "  {\n",
      "    \"course\": \"15-388\",\n",
      "    \"scores\": {\n",
      "      \"midterm_1\": 90,\n",
      "      \"midterm_2\": 70,\n",
      "      \"midterm_3\": 80\n",
      "    }\n",
      "  },\n",
      "  {\n",
      "    \"course\": \"15-213\",\n",
      "    \"scores\": {\n",
      "      \"midterm_1\": 100,\n",
      "      \"midterm_2\": 50,\n",
      "      \"midterm_3\": 70\n",
      "    }\n",
      "  },\n",
      "  {\n",
      "    \"course\": \"15-150\",\n",
      "    \"scores\": {}\n",
      "  }\n",
      "]\n"
     ]
    }
   ],
   "source": [
    "import json\n",
    "classes_file = open('classes.json', 'r')\n",
    "classes = json.load(classes_file)\n",
    "print json.dumps(classes, sort_keys=True, indent=2, separators=(',',': '))\n",
    "classes_file.close()"
   ]
  },
  {
   "cell_type": "markdown",
   "metadata": {},
   "source": [
    "A document-oriented database allows us to represent a group of *documents* collectively known as a *collection*. In our example, each class is a *document*, and the collection of classes is a *collection*.\n",
    "\n",
    "Noteably, each document does not have to have the same information, and we are able to add our fourth exam score to our 15-213 document with no problem! But how do we add the data to our document? To do this, we will introduce MongoDB."
   ]
  },
  {
   "cell_type": "markdown",
   "metadata": {},
   "source": [
    "# An Introduction to MongoDB\n",
    "\n",
    "In this section we will learn a popular implementation of a document-oriented database, MongoDB.\n",
    "\n",
    "Let's first set up our database from our `classes.json`.\n",
    "\n",
    "Note that this will require a MongoDB instance running on your local machine. To accomplish this, simply run\n",
    "\n",
    "```\n",
    "$ mongod\n",
    "```"
   ]
  },
  {
   "cell_type": "code",
   "execution_count": 3,
   "metadata": {
    "collapsed": false
   },
   "outputs": [
    {
     "name": "stdout",
     "output_type": "stream",
     "text": [
      "{u'course': u'15-388', u'_id': ObjectId('58083721d64511292ef51f5d'), u'scores': {u'midterm_1': 90, u'midterm_2': 70, u'midterm_3': 80}}\n",
      "{u'course': u'15-213', u'_id': ObjectId('58083721d64511292ef51f5e'), u'scores': {u'midterm_1': 100, u'midterm_2': 50, u'midterm_3': 70}}\n",
      "{u'course': u'15-150', u'_id': ObjectId('58083721d64511292ef51f5f'), u'scores': {}}\n"
     ]
    }
   ],
   "source": [
    "import bson, pymongo\n",
    "from pymongo import MongoClient\n",
    "\n",
    "conn = MongoClient()\n",
    "\n",
    "# create db if it doesn't already exist\n",
    "db = conn.test_database\n",
    "\n",
    "# create collection grades\n",
    "grades = db.grades\n",
    "\n",
    "# make sure grades is empty, so we can run this function multiple times\n",
    "grades.delete_many({})\n",
    "\n",
    "# add entries, initialize list of id's of objects\n",
    "id_objects = grades.insert_many(classes)\n",
    "ids = id_objects.inserted_ids\n",
    "\n",
    "# analogous to \"SELECT * FROM classes;\"\n",
    "grades_list = grades.find()\n",
    "\n",
    "# print all grades\n",
    "for grade in grades_list:\n",
    "    print grade"
   ]
  },
  {
   "cell_type": "markdown",
   "metadata": {
    "collapsed": true
   },
   "source": [
    "And we have successfully created a collection with our grades. But you want to put your great test score in the collection! Let's take a look at how to modify a document.\n",
    "\n",
    "If we know the ID of the document, this process is quite simple. We can find a *single* document with `<collection>.find_one()` and update a collection with `<collection>.update_one()`."
   ]
  },
  {
   "cell_type": "code",
   "execution_count": 4,
   "metadata": {
    "collapsed": false
   },
   "outputs": [
    {
     "name": "stdout",
     "output_type": "stream",
     "text": [
      "58083721d64511292ef51f5e\n",
      "\n",
      "{u'course': u'15-213', u'_id': ObjectId('58083721d64511292ef51f5e'), u'scores': {u'midterm_1': 100, u'midterm_2': 50, u'midterm_3': 70}}\n",
      "\n",
      "{u'course': u'15-213', u'_id': ObjectId('58083721d64511292ef51f5e'), u'scores': {u'midterm_4': 95, u'midterm_1': 100, u'midterm_2': 50, u'midterm_3': 70}}\n"
     ]
    }
   ],
   "source": [
    "# this is the id we want\n",
    "courseId = ids[1]\n",
    "print courseId\n",
    "\n",
    "# print newline and the document\n",
    "print\n",
    "print grades.find_one({\"_id\": courseId})\n",
    "\n",
    "# update the document\n",
    "grades.update_one({'_id': courseId}, {\"$set\": {'scores.midterm_4': 95}}, upsert=True)\n",
    "\n",
    "# print newline and the updated document\n",
    "print\n",
    "print grades.find_one({\"_id\": courseId})"
   ]
  },
  {
   "cell_type": "markdown",
   "metadata": {},
   "source": [
    "Let's make a few notes. Firstly, we use the keyword `$set` to set the key `'4'` to value `95`. Also, we need to pass the parameter upsert=True to indicate that we wish to add this field if it doesn't exist already.\n",
    "\n",
    "Now you have received a great homework grade for 15-388: 100%! You are anxious to add this score, but unfortunately, we have lost our list of id's!"
   ]
  },
  {
   "cell_type": "code",
   "execution_count": 5,
   "metadata": {
    "collapsed": true
   },
   "outputs": [],
   "source": [
    "id_objects = None\n",
    "ids = []"
   ]
  },
  {
   "cell_type": "markdown",
   "metadata": {},
   "source": [
    "We will have to find the document using only the information that the `course` is `15-388`. Fortunately, we have an alternate way to select documents!"
   ]
  },
  {
   "cell_type": "code",
   "execution_count": 6,
   "metadata": {
    "collapsed": false
   },
   "outputs": [
    {
     "name": "stdout",
     "output_type": "stream",
     "text": [
      "{u'course': u'15-388', u'_id': ObjectId('58083721d64511292ef51f5d'), u'scores': {u'midterm_1': 90, u'midterm_2': 70, u'midterm_3': 80}}\n",
      "\n",
      "{u'course': u'15-388', u'_id': ObjectId('58083721d64511292ef51f5d'), u'scores': {u'homework_1': 100, u'midterm_1': 90, u'midterm_2': 70, u'midterm_3': 80}}\n"
     ]
    }
   ],
   "source": [
    "# print the document\n",
    "print grades.find_one({\"course\": '15-388'})\n",
    "\n",
    "# update the document\n",
    "grades.update_one({\"course\": '15-388'}, {\"$set\": {'scores.homework_1': 100}}, upsert=True)\n",
    "\n",
    "# print newline and the updated document\n",
    "print\n",
    "print grades.find_one({\"course\": '15-388'})"
   ]
  },
  {
   "cell_type": "markdown",
   "metadata": {},
   "source": [
    "You notice there's an error! In your database, your midterm 2 score in 15-388 is a 70%, but you actually got a 90%. You're going to need to change that! To change a value, we use the same syntax as adding a value. The only difference is we don't need `upsert=True`, and so we will eliminate this parameter (`upsert=False` by default)."
   ]
  },
  {
   "cell_type": "code",
   "execution_count": 7,
   "metadata": {
    "collapsed": false
   },
   "outputs": [
    {
     "name": "stdout",
     "output_type": "stream",
     "text": [
      "{u'course': u'15-388', u'_id': ObjectId('58083721d64511292ef51f5d'), u'scores': {u'homework_1': 100, u'midterm_1': 90, u'midterm_2': 90, u'midterm_3': 80}}\n"
     ]
    }
   ],
   "source": [
    "# update the document\n",
    "grades.update_one({\"course\": '15-388'}, {\"$set\": {'scores.midterm_2': 90}})\n",
    "\n",
    "# print the updated document\n",
    "print grades.find_one({\"course\": '15-388'})"
   ]
  },
  {
   "cell_type": "markdown",
   "metadata": {},
   "source": [
    "Finally, we will show you how to remove a document.\n",
    "\n",
    "You don't like 15-150, and so you are electing to drop the course. You want to remove it from your schedule.\n",
    "\n",
    "To remove a document, we use the `.delete_one()` function to remove one document or `.delete_many()` to remove several documents. Since we only want to remove one document, we will simply use `.delete_one()`."
   ]
  },
  {
   "cell_type": "code",
   "execution_count": 8,
   "metadata": {
    "collapsed": false
   },
   "outputs": [
    {
     "name": "stdout",
     "output_type": "stream",
     "text": [
      "{u'course': u'15-388', u'_id': ObjectId('58083721d64511292ef51f5d'), u'scores': {u'homework_1': 100, u'midterm_1': 90, u'midterm_2': 90, u'midterm_3': 80}}\n",
      "{u'course': u'15-213', u'_id': ObjectId('58083721d64511292ef51f5e'), u'scores': {u'midterm_4': 95, u'midterm_1': 100, u'midterm_2': 50, u'midterm_3': 70}}\n"
     ]
    }
   ],
   "source": [
    "# remove the document\n",
    "grades.delete_one({\"course\": '15-150'})\n",
    "\n",
    "# print the updated document\n",
    "for course in grades.find():\n",
    "    print course"
   ]
  },
  {
   "cell_type": "markdown",
   "metadata": {},
   "source": [
    "And we've removed the course!"
   ]
  },
  {
   "cell_type": "markdown",
   "metadata": {},
   "source": [
    "# Operations in MongoDB\n",
    "\n",
    "It's midsemester and you want to calculate your midsemester grade! To do this, you'll need to understand a little about operations in MongoDB.\n",
    "\n",
    "Let's start by averaging midterm scores for each class. Of course, we can select each class as a python object and iterate through them."
   ]
  },
  {
   "cell_type": "code",
   "execution_count": 9,
   "metadata": {
    "collapsed": false
   },
   "outputs": [
    {
     "name": "stdout",
     "output_type": "stream",
     "text": [
      "{u'15-388': 90.0, u'15-213': 78.75}\n"
     ]
    }
   ],
   "source": [
    "avgs = {}\n",
    "for class_ in grades.find():\n",
    "    total = 0\n",
    "    count = 0\n",
    "    for _, score in class_['scores'].iteritems():\n",
    "        total += score\n",
    "        count += 1\n",
    "    avgs[class_['course']] = float(total) / count\n",
    "print avgs"
   ]
  },
  {
   "cell_type": "markdown",
   "metadata": {},
   "source": [
    "# Aggregation\n",
    "\n",
    "Here we introducte the topic of the *aggregation*. To simplify this transition, we will define a new database with information stored in a more typical way for MongoDB."
   ]
  },
  {
   "cell_type": "code",
   "execution_count": 10,
   "metadata": {
    "collapsed": false
   },
   "outputs": [
    {
     "name": "stdout",
     "output_type": "stream",
     "text": [
      "{u'course': u'15-388', u'_id': ObjectId('58083721d64511292ef51f60'), u'exam_name': u'midterm_1', u'score': 90}\n",
      "{u'course': u'15-388', u'_id': ObjectId('58083721d64511292ef51f61'), u'exam_name': u'midterm_2', u'score': 90}\n",
      "{u'course': u'15-388', u'_id': ObjectId('58083721d64511292ef51f62'), u'exam_name': u'midterm_3', u'score': 80}\n",
      "{u'course': u'15-388', u'_id': ObjectId('58083721d64511292ef51f63'), u'exam_name': u'homework_1', u'score': 100}\n",
      "{u'course': u'15-213', u'_id': ObjectId('58083721d64511292ef51f64'), u'exam_name': u'midterm_1', u'score': 100}\n",
      "{u'course': u'15-213', u'_id': ObjectId('58083721d64511292ef51f65'), u'exam_name': u'midterm_2', u'score': 50}\n",
      "{u'course': u'15-213', u'_id': ObjectId('58083721d64511292ef51f66'), u'exam_name': u'midterm_3', u'score': 70}\n",
      "{u'course': u'15-213', u'_id': ObjectId('58083721d64511292ef51f67'), u'exam_name': u'midterm_4', u'score': 95}\n"
     ]
    }
   ],
   "source": [
    "# create collection grades\n",
    "grades_by_test = db.grades_by_test\n",
    "\n",
    "# make sure grades is empty, so we can run this function multiple times\n",
    "grades_by_test.delete_many({})\n",
    "\n",
    "# add entries, initialize list of id's of objects\n",
    "classes_by_test_file = open('classes-by-test.json', 'r')\n",
    "id_objects = grades_by_test.insert_many(json.load(classes_by_test_file))\n",
    "ids = id_objects.inserted_ids\n",
    "classes_by_test_file.close()\n",
    "\n",
    "# analogous to \"SELECT * FROM classes;\"\n",
    "grades_by_test_list = grades_by_test.find()\n",
    "\n",
    "# print all grades\n",
    "for grade in grades_by_test_list:\n",
    "    print grade"
   ]
  },
  {
   "cell_type": "markdown",
   "metadata": {},
   "source": [
    "We will use the aggregation framework.\n",
    "\n",
    "Aggregation is a collection of operations we perform on the data. In this case, we want to look at scores and add them up."
   ]
  },
  {
   "cell_type": "code",
   "execution_count": 11,
   "metadata": {
    "collapsed": false
   },
   "outputs": [
    {
     "name": "stdout",
     "output_type": "stream",
     "text": [
      "[{u'_id': u'15-213', u'avgScore': 78.75}, {u'_id': u'15-388', u'avgScore': 90.0}]\n"
     ]
    }
   ],
   "source": [
    "pipeline = [{\n",
    "        '$group': {\n",
    "            \"_id\": \"$course\",\n",
    "            \"avgScore\": {\n",
    "                \"$avg\":\"$score\"\n",
    "            }\n",
    "        }\n",
    "}]\n",
    "\n",
    "print list(grades_by_test.aggregate(pipeline))"
   ]
  },
  {
   "cell_type": "markdown",
   "metadata": {},
   "source": [
    "We'll now go over the aggregation pipeline."
   ]
  },
  {
   "cell_type": "markdown",
   "metadata": {},
   "source": [
    "# Map & Reduce\n",
    "\n",
    "Note that this section will require some knowledge of JavaScript."
   ]
  }
 ],
 "metadata": {
  "anaconda-cloud": {},
  "kernelspec": {
   "display_name": "Python [Root]",
   "language": "python",
   "name": "Python [Root]"
  },
  "language_info": {
   "codemirror_mode": {
    "name": "ipython",
    "version": 2
   },
   "file_extension": ".py",
   "mimetype": "text/x-python",
   "name": "python",
   "nbconvert_exporter": "python",
   "pygments_lexer": "ipython2",
   "version": "2.7.12"
  }
 },
 "nbformat": 4,
 "nbformat_minor": 0
}
